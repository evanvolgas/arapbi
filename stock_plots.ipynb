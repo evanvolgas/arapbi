{
 "cells": [
  {
   "cell_type": "code",
   "execution_count": null,
   "id": "51880f8c-16af-4d8d-bbd5-32c7d8e15e0c",
   "metadata": {},
   "outputs": [],
   "source": [
    "import warnings\n",
    "import matplotlib.pyplot as plt\n",
    "\n",
    "\n",
    "import pandas as pd\n",
    "import pandas_gbq\n",
    "import seaborn as sns; sns.set()\n",
    "\n",
    "DATABASE_NAME = \"etl\"\n",
    "PROJECT_ID = \"new-life-400922\"\n",
    "TABLE_NAME = \"res_tickers_history\"\n",
    "\n",
    "warnings.filterwarnings(\"ignore\")\n",
    "\n",
    "def query_ticker_data(ticker):\n",
    "    sql = f\"\"\"\n",
    "        SELECT *\n",
    "        FROM `new-life-400922.etl.res_tickers_history`\n",
    "        WHERE ticker = '{ticker}'\n",
    "    \"\"\"\n",
    "    # Run a Standard SQL query with the project set explicitly\n",
    "    df = pd.read_gbq(sql, project_id=PROJECT_ID, dialect=\"standard\")\n",
    "    return df\n",
    "\n",
    "apple = query_ticker_data('AAPL')\n",
    "netflix = query_ticker_data('NFLX')\n",
    "meta = pd.read_gbq(\"SELECT * FROM `new-life-400922.etl.res_tickers_history` WHERE ticker = 'META' AND date >'2022-06-09'\", project_id=PROJECT_ID, dialect=\"standard\")\n",
    "fb = query_ticker_data('FB')\n",
    "microsoft = query_ticker_data('MSFT')\n",
    "amazon = query_ticker_data('AMZN')\n",
    "alphabet = query_ticker_data('GOOGL')\n",
    "\n",
    "apple.name = \"Apple\"\n",
    "netflix.name = \"Netflix\"\n",
    "fb.name = \"Facebook\"\n",
    "meta.name = \"Meta\"\n",
    "microsoft.name = \"Microsoft\"\n",
    "amazon.name = \"Amazon\"\n",
    "alphabet.name = \"Alphabet\"\n",
    "\n",
    "%matplotlib inline\n",
    "\n",
    "\n",
    "company = [apple, netflix, fb, meta, microsoft, amazon, alphabet]\n",
    "colorr = ['blue', 'olivedrab', 'grey','black','firebrick','purple', 'red']    \n",
    "for cmp, clr in zip(company,colorr):\n",
    "    ax = sns.lineplot(data=cmp,x=\"date\",y=\"volume_weighted_average_price\",color=clr,label=cmp.name)\n",
    "    ax.set(xlabel='Date',\n",
    "       ylabel='Price',\n",
    "       title='Stock Prices Over Time')\n",
    "    ticks = ax.get_yticks()\n",
    "    # formatted the values into strings beginning with dollar sign\n",
    "    new_labels = [f'${int(amt)}' for amt in ticks]\n",
    "    # Set the new labels\n",
    "    ax.set_yticklabels(new_labels)    \n",
    "\n",
    "plt.show()"
   ]
  },
  {
   "cell_type": "code",
   "execution_count": null,
   "id": "ea647e7e-a506-4356-aa89-584a8cd74ac9",
   "metadata": {},
   "outputs": [],
   "source": []
  },
  {
   "cell_type": "code",
   "execution_count": null,
   "id": "2340edc2-bb20-430d-bc3a-810b3cf1a732",
   "metadata": {},
   "outputs": [],
   "source": []
  },
  {
   "cell_type": "code",
   "execution_count": null,
   "id": "51b9e117-b589-493e-a785-d58dd37ba187",
   "metadata": {},
   "outputs": [],
   "source": []
  },
  {
   "cell_type": "code",
   "execution_count": null,
   "id": "fda04475-6824-4e12-8c48-e99156749942",
   "metadata": {},
   "outputs": [],
   "source": []
  }
 ],
 "metadata": {
  "kernelspec": {
   "display_name": "Python 3 (ipykernel)",
   "language": "python",
   "name": "python3"
  },
  "language_info": {
   "codemirror_mode": {
    "name": "ipython",
    "version": 3
   },
   "file_extension": ".py",
   "mimetype": "text/x-python",
   "name": "python",
   "nbconvert_exporter": "python",
   "pygments_lexer": "ipython3",
   "version": "3.11.5"
  }
 },
 "nbformat": 4,
 "nbformat_minor": 5
}
