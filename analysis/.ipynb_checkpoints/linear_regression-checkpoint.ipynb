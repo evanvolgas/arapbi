{
 "cells": [
  {
   "cell_type": "code",
   "execution_count": 1,
   "id": "33046971-205f-461c-a4df-ea85b3c6795a",
   "metadata": {},
   "outputs": [],
   "source": [
    "import itertools\n",
    "import warnings\n",
    "\n",
    "import matplotlib.pyplot as plt\n",
    "import numpy as np\n",
    "import pandas as pd\n",
    "from statsmodels.api import OLS\n",
    "import seaborn as sns\n",
    "\n",
    "DATABASE_NAME = \"etl\"\n",
    "PROJECT_ID = \"new-life-400922\"\n",
    "\n",
    "pd.set_option('mode.chained_assignment', None)"
   ]
  },
  {
   "cell_type": "code",
   "execution_count": 2,
   "id": "3ea571c0-9f56-4270-b784-6eaf044d9521",
   "metadata": {},
   "outputs": [],
   "source": [
    "def query_ticker_data():\n",
    "    sql = f\"\"\"\n",
    "        SELECT *\n",
    "        FROM `new-life-400922.etl.res_tickers_by_month`\n",
    "        ORDER BY date\n",
    "    \"\"\"\n",
    "    \n",
    "    # Run a Standard SQL query with the project set explicitly\n",
    "    df = pd.read_gbq(sql, project_id=PROJECT_ID, dialect=\"standard\")\n",
    "    return df\n",
    "\n",
    "\n",
    "def regression_results(y_true, y_pred):\n",
    "\n",
    "    # Regression metrics\n",
    "    explained_variance=metrics.explained_variance_score(y_true, y_pred)\n",
    "    mean_absolute_error=metrics.mean_absolute_error(y_true, y_pred) \n",
    "    mse=metrics.mean_squared_error(y_true, y_pred) \n",
    "    mean_squared_log_error=metrics.mean_squared_log_error(y_true, y_pred)\n",
    "    median_absolute_error=metrics.median_absolute_error(y_true, y_pred)\n",
    "    r2=metrics.r2_score(y_true, y_pred)\n",
    "\n",
    "    print('explained_variance: ', round(explained_variance,4))    \n",
    "    print('mean_squared_log_error: ', round(mean_squared_log_error,4))\n",
    "    print('r2: ', round(r2,4))\n",
    "    print('MAE: ', round(mean_absolute_error,4))\n",
    "    print('MSE: ', round(mse,4))\n",
    "    print('RMSE: ', round(np.sqrt(mse),4))"
   ]
  },
  {
   "cell_type": "code",
   "execution_count": 3,
   "id": "a6e22e93-d731-42e9-a46d-d0cd838474b9",
   "metadata": {},
   "outputs": [],
   "source": [
    "all = query_ticker_data()"
   ]
  },
  {
   "cell_type": "code",
   "execution_count": 4,
   "id": "a8e97c8a-523c-4fd9-a0fd-dea7dce2e284",
   "metadata": {},
   "outputs": [],
   "source": [
    "apple = all[all['ticker'] == 'AAPL']\n",
    "netflix = all[all['ticker'] == 'NFLX']\n",
    "microsoft = all[all['ticker'] == 'MSFT']\n",
    "amazon = all[all['ticker'] == 'AMZN']\n",
    "alphabet = all[all['ticker'] == 'GOOGL']\n",
    "coke = all[all['ticker'] == 'KO']"
   ]
  },
  {
   "cell_type": "code",
   "execution_count": 5,
   "id": "fdb0119f-5b94-44e2-ae32-777d96c5fe97",
   "metadata": {},
   "outputs": [],
   "source": [
    "apple.name = \"Apple\"\n",
    "netflix.name = \"Netflix\"\n",
    "microsoft.name = \"Microsoft\"\n",
    "amazon.name = \"Amazon\"\n",
    "alphabet.name = \"Alphabet\"\n",
    "coke.name = \"Coca-Cola Co\""
   ]
  },
  {
   "cell_type": "code",
   "execution_count": 6,
   "id": "52491c9a-1130-41cc-ba0a-1fd5bb1c03fa",
   "metadata": {},
   "outputs": [],
   "source": [
    "TARGET_DF = apple"
   ]
  },
  {
   "cell_type": "code",
   "execution_count": 7,
   "id": "ed79da27-0c39-47db-9a24-ba282001faa3",
   "metadata": {},
   "outputs": [],
   "source": [
    "TARGET_DF['lag_1'] = TARGET_DF['volume_weighted_average_price'].shift(1)"
   ]
  },
  {
   "cell_type": "code",
   "execution_count": 8,
   "id": "112b9352-4e26-4214-bbd0-4883af96514c",
   "metadata": {},
   "outputs": [],
   "source": [
    "X = TARGET_DF.loc[:, ['lag_1']]\n",
    "X.dropna(inplace=True)  # drop missing values in the feature set\n",
    "y = TARGET_DF.loc[:, 'volume_weighted_average_price']  # create the target\n",
    "y, X = y.align(X, join='inner')  # drop corresponding values in target\n",
    "model = OLS(y,X)\n",
    "fitted = model.fit()\n",
    "y_pred = pd.Series(fitted.predict(X), index=X.index)"
   ]
  },
  {
   "cell_type": "code",
   "execution_count": 9,
   "id": "b0f22419-46b6-438b-8ac4-8fb42e1e2fdc",
   "metadata": {},
   "outputs": [
    {
     "data": {
      "text/html": [
       "<table class=\"simpletable\">\n",
       "<caption>OLS Regression Results</caption>\n",
       "<tr>\n",
       "  <th>Dep. Variable:</th>    <td>volume_weighted_average_price</td> <th>  R-squared (uncentered):</th>      <td>   0.996</td> \n",
       "</tr>\n",
       "<tr>\n",
       "  <th>Model:</th>                         <td>OLS</td>              <th>  Adj. R-squared (uncentered):</th> <td>   0.996</td> \n",
       "</tr>\n",
       "<tr>\n",
       "  <th>Method:</th>                   <td>Least Squares</td>         <th>  F-statistic:       </th>          <td>1.396e+04</td>\n",
       "</tr>\n",
       "<tr>\n",
       "  <th>Date:</th>                   <td>Sun, 22 Oct 2023</td>        <th>  Prob (F-statistic):</th>          <td>8.48e-72</td> \n",
       "</tr>\n",
       "<tr>\n",
       "  <th>Time:</th>                       <td>15:18:51</td>            <th>  Log-Likelihood:    </th>          <td> -211.72</td> \n",
       "</tr>\n",
       "<tr>\n",
       "  <th>No. Observations:</th>            <td>    60</td>             <th>  AIC:               </th>          <td>   425.4</td> \n",
       "</tr>\n",
       "<tr>\n",
       "  <th>Df Residuals:</th>                <td>    59</td>             <th>  BIC:               </th>          <td>   427.5</td> \n",
       "</tr>\n",
       "<tr>\n",
       "  <th>Df Model:</th>                    <td>     1</td>             <th>                     </th>              <td> </td>    \n",
       "</tr>\n",
       "<tr>\n",
       "  <th>Covariance Type:</th>            <td>nonrobust</td>           <th>                     </th>              <td> </td>    \n",
       "</tr>\n",
       "</table>\n",
       "<table class=\"simpletable\">\n",
       "<tr>\n",
       "    <td></td>       <th>coef</th>     <th>std err</th>      <th>t</th>      <th>P>|t|</th>  <th>[0.025</th>    <th>0.975]</th>  \n",
       "</tr>\n",
       "<tr>\n",
       "  <th>lag_1</th> <td>    1.0127</td> <td>    0.009</td> <td>  118.148</td> <td> 0.000</td> <td>    0.996</td> <td>    1.030</td>\n",
       "</tr>\n",
       "</table>\n",
       "<table class=\"simpletable\">\n",
       "<tr>\n",
       "  <th>Omnibus:</th>       <td> 0.320</td> <th>  Durbin-Watson:     </th> <td>   1.634</td>\n",
       "</tr>\n",
       "<tr>\n",
       "  <th>Prob(Omnibus):</th> <td> 0.852</td> <th>  Jarque-Bera (JB):  </th> <td>   0.080</td>\n",
       "</tr>\n",
       "<tr>\n",
       "  <th>Skew:</th>          <td>-0.086</td> <th>  Prob(JB):          </th> <td>   0.961</td>\n",
       "</tr>\n",
       "<tr>\n",
       "  <th>Kurtosis:</th>      <td> 3.050</td> <th>  Cond. No.          </th> <td>    1.00</td>\n",
       "</tr>\n",
       "</table><br/><br/>Notes:<br/>[1] R² is computed without centering (uncentered) since the model does not contain a constant.<br/>[2] Standard Errors assume that the covariance matrix of the errors is correctly specified."
      ],
      "text/latex": [
       "\\begin{center}\n",
       "\\begin{tabular}{lclc}\n",
       "\\toprule\n",
       "\\textbf{Dep. Variable:}    & volume\\_weighted\\_average\\_price & \\textbf{  R-squared (uncentered):}      &     0.996   \\\\\n",
       "\\textbf{Model:}            &               OLS                & \\textbf{  Adj. R-squared (uncentered):} &     0.996   \\\\\n",
       "\\textbf{Method:}           &          Least Squares           & \\textbf{  F-statistic:       }          & 1.396e+04   \\\\\n",
       "\\textbf{Date:}             &         Sun, 22 Oct 2023         & \\textbf{  Prob (F-statistic):}          &  8.48e-72   \\\\\n",
       "\\textbf{Time:}             &             15:18:51             & \\textbf{  Log-Likelihood:    }          &   -211.72   \\\\\n",
       "\\textbf{No. Observations:} &                  60              & \\textbf{  AIC:               }          &     425.4   \\\\\n",
       "\\textbf{Df Residuals:}     &                  59              & \\textbf{  BIC:               }          &     427.5   \\\\\n",
       "\\textbf{Df Model:}         &                   1              & \\textbf{                     }          &             \\\\\n",
       "\\textbf{Covariance Type:}  &            nonrobust             & \\textbf{                     }          &             \\\\\n",
       "\\bottomrule\n",
       "\\end{tabular}\n",
       "\\begin{tabular}{lcccccc}\n",
       "                & \\textbf{coef} & \\textbf{std err} & \\textbf{t} & \\textbf{P$> |$t$|$} & \\textbf{[0.025} & \\textbf{0.975]}  \\\\\n",
       "\\midrule\n",
       "\\textbf{lag\\_1} &       1.0127  &        0.009     &   118.148  &         0.000        &        0.996    &        1.030     \\\\\n",
       "\\bottomrule\n",
       "\\end{tabular}\n",
       "\\begin{tabular}{lclc}\n",
       "\\textbf{Omnibus:}       &  0.320 & \\textbf{  Durbin-Watson:     } &    1.634  \\\\\n",
       "\\textbf{Prob(Omnibus):} &  0.852 & \\textbf{  Jarque-Bera (JB):  } &    0.080  \\\\\n",
       "\\textbf{Skew:}          & -0.086 & \\textbf{  Prob(JB):          } &    0.961  \\\\\n",
       "\\textbf{Kurtosis:}      &  3.050 & \\textbf{  Cond. No.          } &     1.00  \\\\\n",
       "\\bottomrule\n",
       "\\end{tabular}\n",
       "%\\caption{OLS Regression Results}\n",
       "\\end{center}\n",
       "\n",
       "Notes: \\newline\n",
       " [1] R² is computed without centering (uncentered) since the model does not contain a constant. \\newline\n",
       " [2] Standard Errors assume that the covariance matrix of the errors is correctly specified."
      ],
      "text/plain": [
       "<class 'statsmodels.iolib.summary.Summary'>\n",
       "\"\"\"\n",
       "                                      OLS Regression Results                                      \n",
       "==================================================================================================\n",
       "Dep. Variable:     volume_weighted_average_price   R-squared (uncentered):                   0.996\n",
       "Model:                                       OLS   Adj. R-squared (uncentered):              0.996\n",
       "Method:                            Least Squares   F-statistic:                          1.396e+04\n",
       "Date:                           Sun, 22 Oct 2023   Prob (F-statistic):                    8.48e-72\n",
       "Time:                                   15:18:51   Log-Likelihood:                         -211.72\n",
       "No. Observations:                             60   AIC:                                      425.4\n",
       "Df Residuals:                                 59   BIC:                                      427.5\n",
       "Df Model:                                      1                                                  \n",
       "Covariance Type:                       nonrobust                                                  \n",
       "==============================================================================\n",
       "                 coef    std err          t      P>|t|      [0.025      0.975]\n",
       "------------------------------------------------------------------------------\n",
       "lag_1          1.0127      0.009    118.148      0.000       0.996       1.030\n",
       "==============================================================================\n",
       "Omnibus:                        0.320   Durbin-Watson:                   1.634\n",
       "Prob(Omnibus):                  0.852   Jarque-Bera (JB):                0.080\n",
       "Skew:                          -0.086   Prob(JB):                        0.961\n",
       "Kurtosis:                       3.050   Cond. No.                         1.00\n",
       "==============================================================================\n",
       "\n",
       "Notes:\n",
       "[1] R² is computed without centering (uncentered) since the model does not contain a constant.\n",
       "[2] Standard Errors assume that the covariance matrix of the errors is correctly specified.\n",
       "\"\"\""
      ]
     },
     "execution_count": 9,
     "metadata": {},
     "output_type": "execute_result"
    }
   ],
   "source": [
    "fitted.summary()"
   ]
  },
  {
   "cell_type": "code",
   "execution_count": 10,
   "id": "d61d35b0-c7b1-4b47-a1f6-5ee399f96ab7",
   "metadata": {},
   "outputs": [
    {
     "data": {
      "text/plain": [
       "<Axes: xlabel='lag_1', ylabel='volume_weighted_average_price'>"
      ]
     },
     "execution_count": 10,
     "metadata": {},
     "output_type": "execute_result"
    },
    {
     "data": {
      "image/png": "[encoded data removed]",
      "text/plain": [
       "<Figure size 640x480 with 1 Axes>"
      ]
     },
     "metadata": {},
     "output_type": "display_data"
    }
   ],
   "source": [
    "sns.regplot(x='lag_1', y='volume_weighted_average_price', data=TARGET_DF)"
   ]
  },
  {
   "cell_type": "code",
   "execution_count": null,
   "id": "f53fb821-f2d3-47e2-b631-5433099ddd12",
   "metadata": {},
   "outputs": [],
   "source": []
  }
 ],
 "metadata": {
  "kernelspec": {
   "display_name": "Python 3 (ipykernel)",
   "language": "python",
   "name": "python3"
  },
  "language_info": {
   "codemirror_mode": {
    "name": "ipython",
    "version": 3
   },
   "file_extension": ".py",
   "mimetype": "text/x-python",
   "name": "python",
   "nbconvert_exporter": "python",
   "pygments_lexer": "ipython3",
   "version": "3.11.5"
  }
 },
 "nbformat": 4,
 "nbformat_minor": 5
}
