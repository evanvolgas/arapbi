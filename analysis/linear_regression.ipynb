{
 "cells": [
  {
   "cell_type": "code",
   "execution_count": 65,
   "id": "33046971-205f-461c-a4df-ea85b3c6795a",
   "metadata": {},
   "outputs": [],
   "source": [
    "import itertools\n",
    "import warnings\n",
    "\n",
    "import matplotlib.pyplot as plt\n",
    "import numpy as np\n",
    "import pandas as pd\n",
    "from statsmodels.api import OLS\n",
    "import seaborn as sns\n",
    "import statsmodels.api as sm\n",
    "\n",
    "from sklearn.linear_model import LinearRegression\n",
    "from sklearn.model_selection import train_test_split\n",
    "\n",
    "\n",
    "DATABASE_NAME = \"etl\"\n",
    "PROJECT_ID = \"new-life-400922\"\n",
    "\n",
    "pd.set_option('mode.chained_assignment', None)"
   ]
  },
  {
   "cell_type": "code",
   "execution_count": 2,
   "id": "3ea571c0-9f56-4270-b784-6eaf044d9521",
   "metadata": {},
   "outputs": [],
   "source": [
    "def query_ticker_data():\n",
    "    sql = f\"\"\"\n",
    "        SELECT *\n",
    "        FROM `new-life-400922.etl.res_tickers_by_month`\n",
    "        ORDER BY date\n",
    "    \"\"\"\n",
    "    \n",
    "    # Run a Standard SQL query with the project set explicitly\n",
    "    df = pd.read_gbq(sql, project_id=PROJECT_ID, dialect=\"standard\")\n",
    "    return df\n",
    "\n",
    "\n",
    "def regression_results(y_true, y_pred):\n",
    "\n",
    "    # Regression metrics\n",
    "    explained_variance=metrics.explained_variance_score(y_true, y_pred)\n",
    "    mean_absolute_error=metrics.mean_absolute_error(y_true, y_pred) \n",
    "    mse=metrics.mean_squared_error(y_true, y_pred) \n",
    "    mean_squared_log_error=metrics.mean_squared_log_error(y_true, y_pred)\n",
    "    median_absolute_error=metrics.median_absolute_error(y_true, y_pred)\n",
    "    r2=metrics.r2_score(y_true, y_pred)\n",
    "\n",
    "    print('explained_variance: ', round(explained_variance,4))    \n",
    "    print('mean_squared_log_error: ', round(mean_squared_log_error,4))\n",
    "    print('r2: ', round(r2,4))\n",
    "    print('MAE: ', round(mean_absolute_error,4))\n",
    "    print('MSE: ', round(mse,4))\n",
    "    print('RMSE: ', round(np.sqrt(mse),4))"
   ]
  },
  {
   "cell_type": "code",
   "execution_count": 3,
   "id": "a6e22e93-d731-42e9-a46d-d0cd838474b9",
   "metadata": {},
   "outputs": [],
   "source": [
    "all = query_ticker_data()"
   ]
  },
  {
   "cell_type": "code",
   "execution_count": 4,
   "id": "a8e97c8a-523c-4fd9-a0fd-dea7dce2e284",
   "metadata": {},
   "outputs": [],
   "source": [
    "apple = all[all['ticker'] == 'AAPL']\n",
    "netflix = all[all['ticker'] == 'NFLX']\n",
    "microsoft = all[all['ticker'] == 'MSFT']\n",
    "amazon = all[all['ticker'] == 'AMZN']\n",
    "alphabet = all[all['ticker'] == 'GOOGL']\n",
    "coke = all[all['ticker'] == 'KO']"
   ]
  },
  {
   "cell_type": "code",
   "execution_count": 5,
   "id": "fdb0119f-5b94-44e2-ae32-777d96c5fe97",
   "metadata": {},
   "outputs": [],
   "source": [
    "apple.name = \"Apple\"\n",
    "netflix.name = \"Netflix\"\n",
    "microsoft.name = \"Microsoft\"\n",
    "amazon.name = \"Amazon\"\n",
    "alphabet.name = \"Alphabet\"\n",
    "coke.name = \"Coca-Cola Co\""
   ]
  },
  {
   "cell_type": "code",
   "execution_count": 74,
   "id": "52491c9a-1130-41cc-ba0a-1fd5bb1c03fa",
   "metadata": {},
   "outputs": [],
   "source": [
    "TARGET_DF = amazon"
   ]
  },
  {
   "cell_type": "code",
   "execution_count": 75,
   "id": "ed79da27-0c39-47db-9a24-ba282001faa3",
   "metadata": {},
   "outputs": [],
   "source": [
    "TARGET_DF['lag_1'] = TARGET_DF['volume_weighted_average_price'].shift(1)\n",
    "TARGET_DF['lag_1_volume'] = TARGET_DF['volume'].shift(1)\n",
    "TARGET_DF['lag_1_volume'] = np.log(TARGET_DF['lag_1_volume'])"
   ]
  },
  {
   "cell_type": "code",
   "execution_count": 76,
   "id": "112b9352-4e26-4214-bbd0-4883af96514c",
   "metadata": {},
   "outputs": [],
   "source": [
    "X = TARGET_DF[['lag_1', 'lag_1_volume']]\n",
    "X.dropna(inplace=True)  # drop missing values in the feature set\n",
    "X = sm.add_constant(X)\n",
    "y = TARGET_DF.loc[:, 'volume_weighted_average_price']  # create the target\n",
    "y, X = y.align(X, join='inner')  # drop corresponding values in target\n",
    "model = OLS(y,X)\n",
    "fitted = model.fit()\n",
    "y_pred = pd.Series(fitted.predict(X), index=X.index)"
   ]
  },
  {
   "cell_type": "code",
   "execution_count": 77,
   "id": "b0f22419-46b6-438b-8ac4-8fb42e1e2fdc",
   "metadata": {},
   "outputs": [
    {
     "data": {
      "text/html": [
       "<table class=\"simpletable\">\n",
       "<caption>OLS Regression Results</caption>\n",
       "<tr>\n",
       "  <th>Dep. Variable:</th>    <td>volume_weighted_average_price</td> <th>  R-squared:         </th> <td>   0.907</td>\n",
       "</tr>\n",
       "<tr>\n",
       "  <th>Model:</th>                         <td>OLS</td>              <th>  Adj. R-squared:    </th> <td>   0.903</td>\n",
       "</tr>\n",
       "<tr>\n",
       "  <th>Method:</th>                   <td>Least Squares</td>         <th>  F-statistic:       </th> <td>   277.0</td>\n",
       "</tr>\n",
       "<tr>\n",
       "  <th>Date:</th>                   <td>Mon, 23 Oct 2023</td>        <th>  Prob (F-statistic):</th> <td>4.36e-30</td>\n",
       "</tr>\n",
       "<tr>\n",
       "  <th>Time:</th>                       <td>04:44:20</td>            <th>  Log-Likelihood:    </th> <td> -221.60</td>\n",
       "</tr>\n",
       "<tr>\n",
       "  <th>No. Observations:</th>            <td>    60</td>             <th>  AIC:               </th> <td>   449.2</td>\n",
       "</tr>\n",
       "<tr>\n",
       "  <th>Df Residuals:</th>                <td>    57</td>             <th>  BIC:               </th> <td>   455.5</td>\n",
       "</tr>\n",
       "<tr>\n",
       "  <th>Df Model:</th>                    <td>     2</td>             <th>                     </th>     <td> </td>   \n",
       "</tr>\n",
       "<tr>\n",
       "  <th>Covariance Type:</th>            <td>nonrobust</td>           <th>                     </th>     <td> </td>   \n",
       "</tr>\n",
       "</table>\n",
       "<table class=\"simpletable\">\n",
       "<tr>\n",
       "        <td></td>          <th>coef</th>     <th>std err</th>      <th>t</th>      <th>P>|t|</th>  <th>[0.025</th>    <th>0.975]</th>  \n",
       "</tr>\n",
       "<tr>\n",
       "  <th>const</th>        <td>  -27.1753</td> <td>   89.254</td> <td>   -0.304</td> <td> 0.762</td> <td> -205.903</td> <td>  151.552</td>\n",
       "</tr>\n",
       "<tr>\n",
       "  <th>lag_1</th>        <td>    0.9453</td> <td>    0.042</td> <td>   22.639</td> <td> 0.000</td> <td>    0.862</td> <td>    1.029</td>\n",
       "</tr>\n",
       "<tr>\n",
       "  <th>lag_1_volume</th> <td>    1.9107</td> <td>    4.822</td> <td>    0.396</td> <td> 0.693</td> <td>   -7.744</td> <td>   11.566</td>\n",
       "</tr>\n",
       "</table>\n",
       "<table class=\"simpletable\">\n",
       "<tr>\n",
       "  <th>Omnibus:</th>       <td>15.076</td> <th>  Durbin-Watson:     </th> <td>   1.819</td>\n",
       "</tr>\n",
       "<tr>\n",
       "  <th>Prob(Omnibus):</th> <td> 0.001</td> <th>  Jarque-Bera (JB):  </th> <td>  26.046</td>\n",
       "</tr>\n",
       "<tr>\n",
       "  <th>Skew:</th>          <td>-0.796</td> <th>  Prob(JB):          </th> <td>2.21e-06</td>\n",
       "</tr>\n",
       "<tr>\n",
       "  <th>Kurtosis:</th>      <td> 5.808</td> <th>  Cond. No.          </th> <td>9.02e+03</td>\n",
       "</tr>\n",
       "</table><br/><br/>Notes:<br/>[1] Standard Errors assume that the covariance matrix of the errors is correctly specified.<br/>[2] The condition number is large, 9.02e+03. This might indicate that there are<br/>strong multicollinearity or other numerical problems."
      ],
      "text/latex": [
       "\\begin{center}\n",
       "\\begin{tabular}{lclc}\n",
       "\\toprule\n",
       "\\textbf{Dep. Variable:}    & volume\\_weighted\\_average\\_price & \\textbf{  R-squared:         } &     0.907   \\\\\n",
       "\\textbf{Model:}            &               OLS                & \\textbf{  Adj. R-squared:    } &     0.903   \\\\\n",
       "\\textbf{Method:}           &          Least Squares           & \\textbf{  F-statistic:       } &     277.0   \\\\\n",
       "\\textbf{Date:}             &         Mon, 23 Oct 2023         & \\textbf{  Prob (F-statistic):} &  4.36e-30   \\\\\n",
       "\\textbf{Time:}             &             04:44:20             & \\textbf{  Log-Likelihood:    } &   -221.60   \\\\\n",
       "\\textbf{No. Observations:} &                  60              & \\textbf{  AIC:               } &     449.2   \\\\\n",
       "\\textbf{Df Residuals:}     &                  57              & \\textbf{  BIC:               } &     455.5   \\\\\n",
       "\\textbf{Df Model:}         &                   2              & \\textbf{                     } &             \\\\\n",
       "\\textbf{Covariance Type:}  &            nonrobust             & \\textbf{                     } &             \\\\\n",
       "\\bottomrule\n",
       "\\end{tabular}\n",
       "\\begin{tabular}{lcccccc}\n",
       "                        & \\textbf{coef} & \\textbf{std err} & \\textbf{t} & \\textbf{P$> |$t$|$} & \\textbf{[0.025} & \\textbf{0.975]}  \\\\\n",
       "\\midrule\n",
       "\\textbf{const}          &     -27.1753  &       89.254     &    -0.304  &         0.762        &     -205.903    &      151.552     \\\\\n",
       "\\textbf{lag\\_1}         &       0.9453  &        0.042     &    22.639  &         0.000        &        0.862    &        1.029     \\\\\n",
       "\\textbf{lag\\_1\\_volume} &       1.9107  &        4.822     &     0.396  &         0.693        &       -7.744    &       11.566     \\\\\n",
       "\\bottomrule\n",
       "\\end{tabular}\n",
       "\\begin{tabular}{lclc}\n",
       "\\textbf{Omnibus:}       & 15.076 & \\textbf{  Durbin-Watson:     } &    1.819  \\\\\n",
       "\\textbf{Prob(Omnibus):} &  0.001 & \\textbf{  Jarque-Bera (JB):  } &   26.046  \\\\\n",
       "\\textbf{Skew:}          & -0.796 & \\textbf{  Prob(JB):          } & 2.21e-06  \\\\\n",
       "\\textbf{Kurtosis:}      &  5.808 & \\textbf{  Cond. No.          } & 9.02e+03  \\\\\n",
       "\\bottomrule\n",
       "\\end{tabular}\n",
       "%\\caption{OLS Regression Results}\n",
       "\\end{center}\n",
       "\n",
       "Notes: \\newline\n",
       " [1] Standard Errors assume that the covariance matrix of the errors is correctly specified. \\newline\n",
       " [2] The condition number is large, 9.02e+03. This might indicate that there are \\newline\n",
       " strong multicollinearity or other numerical problems."
      ],
      "text/plain": [
       "<class 'statsmodels.iolib.summary.Summary'>\n",
       "\"\"\"\n",
       "                                  OLS Regression Results                                 \n",
       "=========================================================================================\n",
       "Dep. Variable:     volume_weighted_average_price   R-squared:                       0.907\n",
       "Model:                                       OLS   Adj. R-squared:                  0.903\n",
       "Method:                            Least Squares   F-statistic:                     277.0\n",
       "Date:                           Mon, 23 Oct 2023   Prob (F-statistic):           4.36e-30\n",
       "Time:                                   04:44:20   Log-Likelihood:                -221.60\n",
       "No. Observations:                             60   AIC:                             449.2\n",
       "Df Residuals:                                 57   BIC:                             455.5\n",
       "Df Model:                                      2                                         \n",
       "Covariance Type:                       nonrobust                                         \n",
       "================================================================================\n",
       "                   coef    std err          t      P>|t|      [0.025      0.975]\n",
       "--------------------------------------------------------------------------------\n",
       "const          -27.1753     89.254     -0.304      0.762    -205.903     151.552\n",
       "lag_1            0.9453      0.042     22.639      0.000       0.862       1.029\n",
       "lag_1_volume     1.9107      4.822      0.396      0.693      -7.744      11.566\n",
       "==============================================================================\n",
       "Omnibus:                       15.076   Durbin-Watson:                   1.819\n",
       "Prob(Omnibus):                  0.001   Jarque-Bera (JB):               26.046\n",
       "Skew:                          -0.796   Prob(JB):                     2.21e-06\n",
       "Kurtosis:                       5.808   Cond. No.                     9.02e+03\n",
       "==============================================================================\n",
       "\n",
       "Notes:\n",
       "[1] Standard Errors assume that the covariance matrix of the errors is correctly specified.\n",
       "[2] The condition number is large, 9.02e+03. This might indicate that there are\n",
       "strong multicollinearity or other numerical problems.\n",
       "\"\"\""
      ]
     },
     "execution_count": 77,
     "metadata": {},
     "output_type": "execute_result"
    }
   ],
   "source": [
    "fitted.summary()"
   ]
  },
  {
   "cell_type": "code",
   "execution_count": 78,
   "id": "d61d35b0-c7b1-4b47-a1f6-5ee399f96ab7",
   "metadata": {},
   "outputs": [
    {
     "data": {
      "text/plain": [
       "<Axes: xlabel='lag_1', ylabel='volume_weighted_average_price'>"
      ]
     },
     "execution_count": 78,
     "metadata": {},
     "output_type": "execute_result"
    },
    {
     "data": {
      "image/png": "[encoded data removed]",
      "text/plain": [
       "<Figure size 640x480 with 1 Axes>"
      ]
     },
     "metadata": {},
     "output_type": "display_data"
    }
   ],
   "source": [
    "sns.regplot(x='lag_1', y='volume_weighted_average_price', data=TARGET_DF)"
   ]
  },
  {
   "cell_type": "code",
   "execution_count": null,
   "id": "c11b5b42-675b-4721-ad9b-901c2a91d1e6",
   "metadata": {},
   "outputs": [],
   "source": []
  }
 ],
 "metadata": {
  "kernelspec": {
   "display_name": "Python 3 (ipykernel)",
   "language": "python",
   "name": "python3"
  },
  "language_info": {
   "codemirror_mode": {
    "name": "ipython",
    "version": 3
   },
   "file_extension": ".py",
   "mimetype": "text/x-python",
   "name": "python",
   "nbconvert_exporter": "python",
   "pygments_lexer": "ipython3",
   "version": "3.11.5"
  }
 },
 "nbformat": 4,
 "nbformat_minor": 5
}
